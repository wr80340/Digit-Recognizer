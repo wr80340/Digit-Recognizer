{
 "cells": [
  {
   "cell_type": "code",
   "execution_count": 1,
   "metadata": {},
   "outputs": [
    {
     "name": "stdout",
     "output_type": "stream",
     "text": [
      "Sat Feb 20 12:01:17 2021       \r\n",
      "+-----------------------------------------------------------------------------+\r\n",
      "| NVIDIA-SMI 450.57       Driver Version: 450.57       CUDA Version: 11.0     |\r\n",
      "|-------------------------------+----------------------+----------------------+\r\n",
      "| GPU  Name        Persistence-M| Bus-Id        Disp.A | Volatile Uncorr. ECC |\r\n",
      "| Fan  Temp  Perf  Pwr:Usage/Cap|         Memory-Usage | GPU-Util  Compute M. |\r\n",
      "|                               |                      |               MIG M. |\r\n",
      "|===============================+======================+======================|\r\n",
      "|   0  GeForce RTX 208...  Off  | 00000000:18:00.0 Off |                  N/A |\r\n",
      "| 33%   46C    P0    51W / 250W |      3MiB / 11016MiB |     10%      Default |\r\n",
      "|                               |                      |                  N/A |\r\n",
      "+-------------------------------+----------------------+----------------------+\r\n",
      "                                                                               \r\n",
      "+-----------------------------------------------------------------------------+\r\n",
      "| Processes:                                                                  |\r\n",
      "|  GPU   GI   CI        PID   Type   Process name                  GPU Memory |\r\n",
      "|        ID   ID                                                   Usage      |\r\n",
      "|=============================================================================|\r\n",
      "|  No running processes found                                                 |\r\n",
      "+-----------------------------------------------------------------------------+\r\n"
     ]
    }
   ],
   "source": [
    "!nvidia-smi"
   ]
  },
  {
   "cell_type": "code",
   "execution_count": 2,
   "metadata": {},
   "outputs": [],
   "source": [
    "import tensorflow as tf\n",
    "import numpy as np\n",
    "import pandas as pd\n",
    "import os"
   ]
  },
  {
   "cell_type": "code",
   "execution_count": 3,
   "metadata": {},
   "outputs": [
    {
     "data": {
      "text/plain": [
       "'/tf/liao'"
      ]
     },
     "execution_count": 3,
     "metadata": {},
     "output_type": "execute_result"
    }
   ],
   "source": [
    "os.environ['CUDA_VISIBLE_DEVICES'] = \"0\" \n",
    "gpus = tf.config.experimental.list_physical_devices('GPU')\n",
    "if gpus:\n",
    "    try:\n",
    "        tf.config.experimental.set_virtual_device_configuration(\n",
    "            gpus[0],\n",
    "            [tf.config.experimental.VirtualDeviceConfiguration(memory_limit=2000)]) \n",
    "    except RuntimeError as e:\n",
    "        print(e)\n",
    "        \n",
    "os.getcwd()"
   ]
  },
  {
   "cell_type": "code",
   "execution_count": 4,
   "metadata": {},
   "outputs": [],
   "source": [
    "train = pd.read_csv('train.csv')\n",
    "test_digit = pd.read_csv('test.csv')"
   ]
  },
  {
   "cell_type": "code",
   "execution_count": 5,
   "metadata": {},
   "outputs": [
    {
     "data": {
      "text/html": [
       "<div>\n",
       "<style scoped>\n",
       "    .dataframe tbody tr th:only-of-type {\n",
       "        vertical-align: middle;\n",
       "    }\n",
       "\n",
       "    .dataframe tbody tr th {\n",
       "        vertical-align: top;\n",
       "    }\n",
       "\n",
       "    .dataframe thead th {\n",
       "        text-align: right;\n",
       "    }\n",
       "</style>\n",
       "<table border=\"1\" class=\"dataframe\">\n",
       "  <thead>\n",
       "    <tr style=\"text-align: right;\">\n",
       "      <th></th>\n",
       "      <th>label</th>\n",
       "      <th>pixel0</th>\n",
       "      <th>pixel1</th>\n",
       "      <th>pixel2</th>\n",
       "      <th>pixel3</th>\n",
       "      <th>pixel4</th>\n",
       "      <th>pixel5</th>\n",
       "      <th>pixel6</th>\n",
       "      <th>pixel7</th>\n",
       "      <th>pixel8</th>\n",
       "      <th>...</th>\n",
       "      <th>pixel774</th>\n",
       "      <th>pixel775</th>\n",
       "      <th>pixel776</th>\n",
       "      <th>pixel777</th>\n",
       "      <th>pixel778</th>\n",
       "      <th>pixel779</th>\n",
       "      <th>pixel780</th>\n",
       "      <th>pixel781</th>\n",
       "      <th>pixel782</th>\n",
       "      <th>pixel783</th>\n",
       "    </tr>\n",
       "  </thead>\n",
       "  <tbody>\n",
       "    <tr>\n",
       "      <th>0</th>\n",
       "      <td>1</td>\n",
       "      <td>0</td>\n",
       "      <td>0</td>\n",
       "      <td>0</td>\n",
       "      <td>0</td>\n",
       "      <td>0</td>\n",
       "      <td>0</td>\n",
       "      <td>0</td>\n",
       "      <td>0</td>\n",
       "      <td>0</td>\n",
       "      <td>...</td>\n",
       "      <td>0</td>\n",
       "      <td>0</td>\n",
       "      <td>0</td>\n",
       "      <td>0</td>\n",
       "      <td>0</td>\n",
       "      <td>0</td>\n",
       "      <td>0</td>\n",
       "      <td>0</td>\n",
       "      <td>0</td>\n",
       "      <td>0</td>\n",
       "    </tr>\n",
       "    <tr>\n",
       "      <th>1</th>\n",
       "      <td>0</td>\n",
       "      <td>0</td>\n",
       "      <td>0</td>\n",
       "      <td>0</td>\n",
       "      <td>0</td>\n",
       "      <td>0</td>\n",
       "      <td>0</td>\n",
       "      <td>0</td>\n",
       "      <td>0</td>\n",
       "      <td>0</td>\n",
       "      <td>...</td>\n",
       "      <td>0</td>\n",
       "      <td>0</td>\n",
       "      <td>0</td>\n",
       "      <td>0</td>\n",
       "      <td>0</td>\n",
       "      <td>0</td>\n",
       "      <td>0</td>\n",
       "      <td>0</td>\n",
       "      <td>0</td>\n",
       "      <td>0</td>\n",
       "    </tr>\n",
       "    <tr>\n",
       "      <th>2</th>\n",
       "      <td>1</td>\n",
       "      <td>0</td>\n",
       "      <td>0</td>\n",
       "      <td>0</td>\n",
       "      <td>0</td>\n",
       "      <td>0</td>\n",
       "      <td>0</td>\n",
       "      <td>0</td>\n",
       "      <td>0</td>\n",
       "      <td>0</td>\n",
       "      <td>...</td>\n",
       "      <td>0</td>\n",
       "      <td>0</td>\n",
       "      <td>0</td>\n",
       "      <td>0</td>\n",
       "      <td>0</td>\n",
       "      <td>0</td>\n",
       "      <td>0</td>\n",
       "      <td>0</td>\n",
       "      <td>0</td>\n",
       "      <td>0</td>\n",
       "    </tr>\n",
       "    <tr>\n",
       "      <th>3</th>\n",
       "      <td>4</td>\n",
       "      <td>0</td>\n",
       "      <td>0</td>\n",
       "      <td>0</td>\n",
       "      <td>0</td>\n",
       "      <td>0</td>\n",
       "      <td>0</td>\n",
       "      <td>0</td>\n",
       "      <td>0</td>\n",
       "      <td>0</td>\n",
       "      <td>...</td>\n",
       "      <td>0</td>\n",
       "      <td>0</td>\n",
       "      <td>0</td>\n",
       "      <td>0</td>\n",
       "      <td>0</td>\n",
       "      <td>0</td>\n",
       "      <td>0</td>\n",
       "      <td>0</td>\n",
       "      <td>0</td>\n",
       "      <td>0</td>\n",
       "    </tr>\n",
       "    <tr>\n",
       "      <th>4</th>\n",
       "      <td>0</td>\n",
       "      <td>0</td>\n",
       "      <td>0</td>\n",
       "      <td>0</td>\n",
       "      <td>0</td>\n",
       "      <td>0</td>\n",
       "      <td>0</td>\n",
       "      <td>0</td>\n",
       "      <td>0</td>\n",
       "      <td>0</td>\n",
       "      <td>...</td>\n",
       "      <td>0</td>\n",
       "      <td>0</td>\n",
       "      <td>0</td>\n",
       "      <td>0</td>\n",
       "      <td>0</td>\n",
       "      <td>0</td>\n",
       "      <td>0</td>\n",
       "      <td>0</td>\n",
       "      <td>0</td>\n",
       "      <td>0</td>\n",
       "    </tr>\n",
       "  </tbody>\n",
       "</table>\n",
       "<p>5 rows × 785 columns</p>\n",
       "</div>"
      ],
      "text/plain": [
       "   label  pixel0  pixel1  pixel2  pixel3  pixel4  pixel5  pixel6  pixel7  \\\n",
       "0      1       0       0       0       0       0       0       0       0   \n",
       "1      0       0       0       0       0       0       0       0       0   \n",
       "2      1       0       0       0       0       0       0       0       0   \n",
       "3      4       0       0       0       0       0       0       0       0   \n",
       "4      0       0       0       0       0       0       0       0       0   \n",
       "\n",
       "   pixel8  ...  pixel774  pixel775  pixel776  pixel777  pixel778  pixel779  \\\n",
       "0       0  ...         0         0         0         0         0         0   \n",
       "1       0  ...         0         0         0         0         0         0   \n",
       "2       0  ...         0         0         0         0         0         0   \n",
       "3       0  ...         0         0         0         0         0         0   \n",
       "4       0  ...         0         0         0         0         0         0   \n",
       "\n",
       "   pixel780  pixel781  pixel782  pixel783  \n",
       "0         0         0         0         0  \n",
       "1         0         0         0         0  \n",
       "2         0         0         0         0  \n",
       "3         0         0         0         0  \n",
       "4         0         0         0         0  \n",
       "\n",
       "[5 rows x 785 columns]"
      ]
     },
     "execution_count": 5,
     "metadata": {},
     "output_type": "execute_result"
    }
   ],
   "source": [
    "train.head(5)"
   ]
  },
  {
   "cell_type": "code",
   "execution_count": 6,
   "metadata": {},
   "outputs": [],
   "source": [
    "train_label = train[\"label\"]\n",
    "train_digit = train.iloc[:,1:]"
   ]
  },
  {
   "cell_type": "code",
   "execution_count": 7,
   "metadata": {},
   "outputs": [],
   "source": [
    "valid_digit = train_digit.iloc[range(22000,42000),:]\n",
    "valid_label = train_label.iloc[range(22000,42000)]\n",
    "train_digit = train_digit.iloc[range(0,22000),:]\n",
    "train_label = train_label.iloc[range(0,22000)]"
   ]
  },
  {
   "cell_type": "code",
   "execution_count": 8,
   "metadata": {},
   "outputs": [
    {
     "name": "stdout",
     "output_type": "stream",
     "text": [
      "(22000, 784)\n",
      "(22000,)\n",
      "(20000, 784)\n",
      "(20000,)\n"
     ]
    }
   ],
   "source": [
    "print(train_digit.shape)\n",
    "print(train_label.shape)\n",
    "print(valid_digit.shape)\n",
    "print(valid_label.shape)"
   ]
  },
  {
   "cell_type": "code",
   "execution_count": 9,
   "metadata": {
    "scrolled": true
   },
   "outputs": [
    {
     "name": "stdout",
     "output_type": "stream",
     "text": [
      "(28, 28, 1)\n"
     ]
    },
    {
     "data": {
      "image/png": "[encoded data removed]",
      "text/plain": [
       "<Figure size 432x288 with 1 Axes>"
      ]
     },
     "metadata": {
      "needs_background": "light"
     },
     "output_type": "display_data"
    }
   ],
   "source": [
    "import matplotlib.pyplot as plt\n",
    "tmp = tf.reshape(train_digit.iloc[0], [28,28,1])\n",
    "plt.imshow(tmp[:,:,0])\n",
    "print(tmp.shape)"
   ]
  },
  {
   "cell_type": "code",
   "execution_count": 10,
   "metadata": {},
   "outputs": [],
   "source": [
    "# parameter set \n",
    "IMAGE_DEPTH = 1\n",
    "IMAGE_HEIGHT = 28\n",
    "IMAGE_WIDTH = 28\n",
    "EPOCH = 100"
   ]
  },
  {
   "cell_type": "code",
   "execution_count": 11,
   "metadata": {},
   "outputs": [],
   "source": [
    "def map_fun(image, label):\n",
    "    image = tf.reshape(image,[IMAGE_HEIGHT,IMAGE_WIDTH,IMAGE_DEPTH])\n",
    "    image = tf.math.divide(tf.cast(image,tf.float32),255.0)\n",
    "    label = tf.one_hot(label,10)\n",
    "    distorted_image = tf.image.random_flip_left_right(image)\n",
    "    distorted_image = tf.image.random_brightness(distorted_image, max_delta=63)\n",
    "    distorted_image = tf.image.random_contrast(distorted_image, lower=0.2, upper=1.8)\n",
    "    distorted_image = tf.image.per_image_standardization(distorted_image)\n",
    "    return distorted_image, label\n",
    "def map_valid_fun(image, label):\n",
    "    image = tf.reshape(image,[IMAGE_HEIGHT,IMAGE_WIDTH,IMAGE_DEPTH])\n",
    "    image = tf.math.divide(tf.cast(image,tf.float32),255.0)\n",
    "    label = tf.one_hot(label,10)\n",
    "    distorted_image = tf.image.per_image_standardization(image)\n",
    "    return distorted_image, label\n",
    "def map_test_fun(image):\n",
    "    image = tf.reshape(image,[IMAGE_HEIGHT,IMAGE_WIDTH,IMAGE_DEPTH])\n",
    "    image = tf.math.divide(tf.cast(image,tf.float32),255.0)\n",
    "    distorted_image = tf.image.per_image_standardization(image)\n",
    "    return distorted_image"
   ]
  },
  {
   "cell_type": "code",
   "execution_count": 12,
   "metadata": {
    "scrolled": true
   },
   "outputs": [],
   "source": [
    "train_digit = pd.DataFrame.to_numpy(train_digit)\n",
    "train_label = pd.DataFrame.to_numpy(train_label)\n",
    "valid_digit = pd.DataFrame.to_numpy(valid_digit)\n",
    "valid_label = pd.DataFrame.to_numpy(valid_label)\n",
    "test_digit = pd.DataFrame.to_numpy(test_digit)"
   ]
  },
  {
   "cell_type": "code",
   "execution_count": 13,
   "metadata": {},
   "outputs": [
    {
     "name": "stdout",
     "output_type": "stream",
     "text": [
      "WARNING:tensorflow:From /usr/local/lib/python3.6/dist-packages/tensorflow_core/python/ops/image_ops_impl.py:1556: div (from tensorflow.python.ops.math_ops) is deprecated and will be removed in a future version.\n",
      "Instructions for updating:\n",
      "Deprecated in favor of operator or tf.math.divide.\n"
     ]
    },
    {
     "data": {
      "text/plain": [
       "<BatchDataset shapes: ((None, 28, 28, 1), (None, 10)), types: (tf.float32, tf.float32)>"
      ]
     },
     "execution_count": 13,
     "metadata": {},
     "output_type": "execute_result"
    }
   ],
   "source": [
    "dataset_train = tf.data.Dataset.from_tensor_slices((train_digit, train_label))\n",
    "dataset_train = dataset_train.repeat(5)\n",
    "dataset_train = dataset_train.map(map_fun)\n",
    "dataset_train = dataset_train.shuffle(1122)\n",
    "dataset_train = dataset_train.prefetch(buffer_size=tf.data.experimental.AUTOTUNE)\n",
    "dataset_train = dataset_train.batch(32)\n",
    "dataset_train"
   ]
  },
  {
   "cell_type": "code",
   "execution_count": 14,
   "metadata": {},
   "outputs": [
    {
     "data": {
      "text/plain": [
       "<BatchDataset shapes: ((None, 28, 28, 1), (None, 10)), types: (tf.float32, tf.float32)>"
      ]
     },
     "execution_count": 14,
     "metadata": {},
     "output_type": "execute_result"
    }
   ],
   "source": [
    "dataset_valid = tf.data.Dataset.from_tensor_slices((valid_digit, valid_label))\n",
    "dataset_valid = dataset_valid.map(map_valid_fun)\n",
    "dataset_valid = dataset_valid.prefetch(buffer_size=tf.data.experimental.AUTOTUNE)\n",
    "dataset_valid = dataset_valid.batch(32)\n",
    "dataset_valid"
   ]
  },
  {
   "cell_type": "code",
   "execution_count": 15,
   "metadata": {},
   "outputs": [
    {
     "data": {
      "text/plain": [
       "<BatchDataset shapes: (None, 28, 28, 1), types: tf.float32>"
      ]
     },
     "execution_count": 15,
     "metadata": {},
     "output_type": "execute_result"
    }
   ],
   "source": [
    "dataset_test = tf.data.Dataset.from_tensor_slices(test_digit)\n",
    "dataset_test = dataset_test.map(map_test_fun)\n",
    "dataset_test = dataset_test.prefetch(buffer_size=tf.data.experimental.AUTOTUNE)\n",
    "dataset_test = dataset_test.batch(32)\n",
    "dataset_test"
   ]
  },
  {
   "cell_type": "code",
   "execution_count": 16,
   "metadata": {
    "scrolled": false
   },
   "outputs": [
    {
     "name": "stdout",
     "output_type": "stream",
     "text": [
      "Train for 3438 steps, validate for 625 steps\n",
      "Epoch 1/100\n",
      "3438/3438 [==============================] - 21s 6ms/step - loss: 0.3311 - accuracy: 0.9008 - val_loss: 0.0756 - val_accuracy: 0.9780\n",
      "Epoch 2/100\n",
      "3438/3438 [==============================] - 20s 6ms/step - loss: 0.1252 - accuracy: 0.9639 - val_loss: 0.0720 - val_accuracy: 0.9812\n",
      "Epoch 3/100\n",
      "3438/3438 [==============================] - 19s 6ms/step - loss: 0.0856 - accuracy: 0.9756 - val_loss: 0.0870 - val_accuracy: 0.9783\n",
      "Epoch 4/100\n",
      "3438/3438 [==============================] - 19s 6ms/step - loss: 0.0684 - accuracy: 0.9813 - val_loss: 0.0671 - val_accuracy: 0.9826\n",
      "Epoch 5/100\n",
      "3438/3438 [==============================] - 19s 6ms/step - loss: 0.0526 - accuracy: 0.9856 - val_loss: 0.0566 - val_accuracy: 0.9873\n",
      "Epoch 6/100\n",
      "3438/3438 [==============================] - 19s 6ms/step - loss: 0.0457 - accuracy: 0.9876 - val_loss: 0.0741 - val_accuracy: 0.9835\n",
      "Epoch 7/100\n",
      "3438/3438 [==============================] - 19s 6ms/step - loss: 0.0425 - accuracy: 0.9890 - val_loss: 0.0670 - val_accuracy: 0.9854\n",
      "Epoch 8/100\n",
      "3438/3438 [==============================] - 20s 6ms/step - loss: 0.0372 - accuracy: 0.9904 - val_loss: 0.0772 - val_accuracy: 0.9851\n",
      "Epoch 9/100\n",
      "3438/3438 [==============================] - 19s 6ms/step - loss: 0.0333 - accuracy: 0.9914 - val_loss: 0.0913 - val_accuracy: 0.9838\n",
      "Epoch 10/100\n",
      "3438/3438 [==============================] - 19s 6ms/step - loss: 0.0313 - accuracy: 0.9920 - val_loss: 0.0908 - val_accuracy: 0.9857\n",
      "Epoch 11/100\n",
      "3438/3438 [==============================] - 19s 6ms/step - loss: 0.0289 - accuracy: 0.9927 - val_loss: 0.0844 - val_accuracy: 0.9867\n",
      "Epoch 12/100\n",
      "3438/3438 [==============================] - 20s 6ms/step - loss: 0.0272 - accuracy: 0.9932 - val_loss: 0.0861 - val_accuracy: 0.9863\n",
      "Epoch 13/100\n",
      "3438/3438 [==============================] - 20s 6ms/step - loss: 0.0262 - accuracy: 0.9933 - val_loss: 0.0933 - val_accuracy: 0.9855\n",
      "Epoch 14/100\n",
      "3438/3438 [==============================] - 20s 6ms/step - loss: 0.0231 - accuracy: 0.9942 - val_loss: 0.1135 - val_accuracy: 0.9851\n",
      "Epoch 15/100\n",
      "3438/3438 [==============================] - 19s 6ms/step - loss: 0.0235 - accuracy: 0.9941 - val_loss: 0.1010 - val_accuracy: 0.9855\n",
      "Epoch 16/100\n",
      "3438/3438 [==============================] - 19s 6ms/step - loss: 0.0232 - accuracy: 0.9945 - val_loss: 0.1329 - val_accuracy: 0.9831\n",
      "Epoch 17/100\n",
      "3438/3438 [==============================] - 20s 6ms/step - loss: 0.0215 - accuracy: 0.9950 - val_loss: 0.1035 - val_accuracy: 0.9868\n",
      "Epoch 18/100\n",
      "3438/3438 [==============================] - 19s 6ms/step - loss: 0.0234 - accuracy: 0.9947 - val_loss: 0.1103 - val_accuracy: 0.9865\n",
      "Epoch 19/100\n",
      "3438/3438 [==============================] - 20s 6ms/step - loss: 0.0192 - accuracy: 0.9954 - val_loss: 0.1121 - val_accuracy: 0.9860\n",
      "Epoch 20/100\n",
      "3438/3438 [==============================] - 19s 6ms/step - loss: 0.0196 - accuracy: 0.9957 - val_loss: 0.1049 - val_accuracy: 0.9860\n",
      "Epoch 21/100\n",
      "3438/3438 [==============================] - 19s 6ms/step - loss: 0.0207 - accuracy: 0.9951 - val_loss: 0.1358 - val_accuracy: 0.9847\n",
      "Epoch 22/100\n",
      "3438/3438 [==============================] - 19s 6ms/step - loss: 0.0181 - accuracy: 0.9958 - val_loss: 0.1127 - val_accuracy: 0.9869\n",
      "Epoch 23/100\n",
      "3438/3438 [==============================] - 19s 6ms/step - loss: 0.0188 - accuracy: 0.9954 - val_loss: 0.1227 - val_accuracy: 0.9856\n",
      "Epoch 24/100\n",
      "3438/3438 [==============================] - 19s 6ms/step - loss: 0.0175 - accuracy: 0.9959 - val_loss: 0.1021 - val_accuracy: 0.9862\n",
      "Epoch 25/100\n",
      "3438/3438 [==============================] - 20s 6ms/step - loss: 0.0197 - accuracy: 0.9959 - val_loss: 0.1011 - val_accuracy: 0.9854\n",
      "Epoch 26/100\n",
      "3438/3438 [==============================] - 19s 6ms/step - loss: 0.0166 - accuracy: 0.9961 - val_loss: 0.1445 - val_accuracy: 0.9861\n",
      "Epoch 27/100\n",
      "3438/3438 [==============================] - 19s 6ms/step - loss: 0.0185 - accuracy: 0.9961 - val_loss: 0.1484 - val_accuracy: 0.9864\n",
      "Epoch 28/100\n",
      "3438/3438 [==============================] - 19s 6ms/step - loss: 0.0171 - accuracy: 0.9964 - val_loss: 0.1495 - val_accuracy: 0.9860\n",
      "Epoch 29/100\n",
      "3438/3438 [==============================] - 19s 6ms/step - loss: 0.0200 - accuracy: 0.9955 - val_loss: 0.1385 - val_accuracy: 0.9850\n",
      "Epoch 30/100\n",
      "3438/3438 [==============================] - 19s 6ms/step - loss: 0.0197 - accuracy: 0.9961 - val_loss: 0.1613 - val_accuracy: 0.9847\n",
      "Epoch 31/100\n",
      "3438/3438 [==============================] - 19s 6ms/step - loss: 0.0155 - accuracy: 0.9966 - val_loss: 0.1403 - val_accuracy: 0.9858\n",
      "Epoch 32/100\n",
      "3438/3438 [==============================] - 19s 6ms/step - loss: 0.0140 - accuracy: 0.9967 - val_loss: 0.2242 - val_accuracy: 0.9859\n",
      "Epoch 33/100\n",
      "3438/3438 [==============================] - 19s 6ms/step - loss: 0.0172 - accuracy: 0.9963 - val_loss: 0.1866 - val_accuracy: 0.9867\n",
      "Epoch 34/100\n",
      "3438/3438 [==============================] - 19s 6ms/step - loss: 0.0168 - accuracy: 0.9965 - val_loss: 0.1400 - val_accuracy: 0.9865\n",
      "Epoch 35/100\n",
      "3438/3438 [==============================] - 20s 6ms/step - loss: 0.0161 - accuracy: 0.9966 - val_loss: 0.1460 - val_accuracy: 0.9868\n",
      "Epoch 36/100\n",
      "3438/3438 [==============================] - 19s 6ms/step - loss: 0.0171 - accuracy: 0.9966 - val_loss: 0.1544 - val_accuracy: 0.9847\n",
      "Epoch 37/100\n",
      "3438/3438 [==============================] - 19s 6ms/step - loss: 0.0176 - accuracy: 0.9963 - val_loss: 0.2070 - val_accuracy: 0.9863\n",
      "Epoch 38/100\n",
      "3438/3438 [==============================] - 19s 6ms/step - loss: 0.0153 - accuracy: 0.9970 - val_loss: 0.1770 - val_accuracy: 0.9866\n",
      "Epoch 39/100\n",
      "3438/3438 [==============================] - 19s 6ms/step - loss: 0.0172 - accuracy: 0.9966 - val_loss: 0.1730 - val_accuracy: 0.9866\n",
      "Epoch 40/100\n",
      "3438/3438 [==============================] - 19s 6ms/step - loss: 0.0178 - accuracy: 0.9966 - val_loss: 0.1363 - val_accuracy: 0.9865\n"
     ]
    }
   ],
   "source": [
    "model = tf.keras.models.Sequential()\n",
    "\n",
    "model.add(tf.keras.layers.Conv2D(64, (3, 3), padding='same', activation='relu', input_shape=(IMAGE_HEIGHT, IMAGE_WIDTH, IMAGE_DEPTH)))\n",
    "model.add(tf.keras.layers.MaxPool2D(pool_size=3,strides=2,padding='same'))\n",
    "model.add(tf.keras.layers.BatchNormalization())\n",
    "                \n",
    "model.add(tf.keras.layers.Conv2D(128, (5, 5), padding='same', activation='relu'))\n",
    "model.add(tf.keras.layers.MaxPool2D(pool_size=3,strides=2,padding='same'))\n",
    "model.add(tf.keras.layers.BatchNormalization())\n",
    "                \n",
    "model.add(tf.keras.layers.Flatten())\n",
    "model.add(tf.keras.layers.Dense(256, activation='relu'))\n",
    "model.add(tf.keras.layers.Dropout(0.5))\n",
    "model.add(tf.keras.layers.Dense(128, activation='relu'))\n",
    "model.add(tf.keras.layers.Dropout(0.3))\n",
    "model.add(tf.keras.layers.Dense(10, activation='softmax'))\n",
    "model.compile(optimizer='adam',\n",
    "              loss='categorical_crossentropy',\n",
    "              metrics=['accuracy'])\n",
    "\n",
    "history = model.fit(dataset_train, validation_data=dataset_valid, epochs=EPOCH, callbacks= [tf.keras.callbacks.EarlyStopping(monitor='loss', patience=8)])"
   ]
  },
  {
   "cell_type": "code",
   "execution_count": 17,
   "metadata": {
    "scrolled": true
   },
   "outputs": [
    {
     "data": {
      "image/png": "[encoded data removed]",
      "text/plain": [
       "<Figure size 432x288 with 1 Axes>"
      ]
     },
     "metadata": {
      "needs_background": "light"
     },
     "output_type": "display_data"
    }
   ],
   "source": [
    "plt.plot(history.history['accuracy'])\n",
    "plt.plot(history.history['val_accuracy'])\n",
    "plt.title('accuracy vs. epochs')\n",
    "plt.ylabel('Accuracy')\n",
    "plt.xlabel('Epoch')\n",
    "plt.legend(['Training', 'Validation'], loc='upper right')\n",
    "plt.show() "
   ]
  },
  {
   "cell_type": "code",
   "execution_count": 18,
   "metadata": {},
   "outputs": [],
   "source": [
    "prob = model.predict(dataset_test)"
   ]
  },
  {
   "cell_type": "code",
   "execution_count": 19,
   "metadata": {},
   "outputs": [
    {
     "data": {
      "text/plain": [
       "<tf.Tensor: shape=(28000,), dtype=int64, numpy=array([2, 0, 9, ..., 3, 9, 2])>"
      ]
     },
     "execution_count": 19,
     "metadata": {},
     "output_type": "execute_result"
    }
   ],
   "source": [
    "tf.math.argmax(prob, axis = 1)"
   ]
  },
  {
   "cell_type": "code",
   "execution_count": 20,
   "metadata": {},
   "outputs": [],
   "source": [
    "submit = pd.read_csv(\"sample_submission.csv\")"
   ]
  },
  {
   "cell_type": "code",
   "execution_count": 21,
   "metadata": {},
   "outputs": [],
   "source": [
    "submit[\"Label\"] = tf.math.argmax(prob, axis = 1)"
   ]
  },
  {
   "cell_type": "code",
   "execution_count": 22,
   "metadata": {},
   "outputs": [],
   "source": [
    "submit.to_csv('submit.csv', index=False)"
   ]
  },
  {
   "cell_type": "code",
   "execution_count": null,
   "metadata": {},
   "outputs": [],
   "source": []
  },
  {
   "cell_type": "code",
   "execution_count": null,
   "metadata": {},
   "outputs": [],
   "source": []
  }
 ],
 "metadata": {
  "kernelspec": {
   "display_name": "Python 3",
   "language": "python",
   "name": "python3"
  },
  "language_info": {
   "codemirror_mode": {
    "name": "ipython",
    "version": 3
   },
   "file_extension": ".py",
   "mimetype": "text/x-python",
   "name": "python",
   "nbconvert_exporter": "python",
   "pygments_lexer": "ipython3",
   "version": "3.6.9"
  }
 },
 "nbformat": 4,
 "nbformat_minor": 4
}
